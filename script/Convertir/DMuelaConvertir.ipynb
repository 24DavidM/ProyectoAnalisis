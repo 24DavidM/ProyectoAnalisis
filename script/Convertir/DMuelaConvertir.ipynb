{
 "cells": [
  {
   "cell_type": "code",
   "execution_count": 1,
   "id": "1d0a7cca-61df-4d20-bd26-d7b541d91d6b",
   "metadata": {},
   "outputs": [],
   "source": [
    "#Aqui se convertira de CSV A JSON"
   ]
  },
  {
   "cell_type": "code",
   "execution_count": 2,
   "id": "92a991cb-3218-4df3-a811-2a411c748bff",
   "metadata": {},
   "outputs": [],
   "source": [
    "#Con los dataframes (CSV) limpiados "
   ]
  },
  {
   "cell_type": "code",
   "execution_count": 3,
   "id": "9dc5f30c-90d5-49b6-8bd3-293ed70807e8",
   "metadata": {},
   "outputs": [],
   "source": [
    "import pandas as pd\n",
    "import json"
   ]
  },
  {
   "cell_type": "code",
   "execution_count": 4,
   "id": "02625d5b-66eb-40a2-b730-4201a4bfbd2f",
   "metadata": {},
   "outputs": [],
   "source": [
    "# Convertir de CSV A JSON"
   ]
  },
  {
   "cell_type": "code",
   "execution_count": 5,
   "id": "89dc678b-8b4f-4477-a760-b378e0a7ab21",
   "metadata": {},
   "outputs": [],
   "source": [
    "# Cargar el CSV\n",
    "df1 = pd.read_csv(\"./limpiosCsv/CleanEloRating.csv\") \n"
   ]
  },
  {
   "cell_type": "code",
   "execution_count": 6,
   "id": "26f0fca3-e5ae-4800-81ba-3153b78218fe",
   "metadata": {},
   "outputs": [],
   "source": [
    "# Cargar el CSV\n",
    "df2 = pd.read_csv(\"./limpiosCsv/CleanAthlete.csv\") \n"
   ]
  },
  {
   "cell_type": "code",
   "execution_count": 7,
   "id": "90c8c71d-ed71-497f-8e28-8d4ad779eb76",
   "metadata": {},
   "outputs": [],
   "source": [
    "# Cargar el CSV\n",
    "df3 = pd.read_csv(\"./limpiosCsv/CleanWorldCupMatches.csv\") \n"
   ]
  },
  {
   "cell_type": "code",
   "execution_count": 8,
   "id": "ecf871aa-8135-4cba-be25-05679d3fe428",
   "metadata": {},
   "outputs": [],
   "source": [
    "# Cargar el CSV\n",
    "df4 = pd.read_csv(\"./limpiosCsv/CleanWorldCups.csv\") \n"
   ]
  },
  {
   "cell_type": "code",
   "execution_count": 9,
   "id": "0d7feba0-f270-4d38-ba45-407f8d3fa3cc",
   "metadata": {},
   "outputs": [],
   "source": [
    "#Convertimos a JSON\n",
    "df1.to_json('./json/EloRating.json', orient='records', indent=4)\n"
   ]
  },
  {
   "cell_type": "code",
   "execution_count": 10,
   "id": "79298d5c-d877-418f-b87b-da7f5a115c3c",
   "metadata": {},
   "outputs": [],
   "source": [
    "#Convertimos a JSON\n",
    "df2.to_json('./json/Athlete.json', orient='records', indent=4)\n"
   ]
  },
  {
   "cell_type": "code",
   "execution_count": 11,
   "id": "88141f4d-e0b6-49ca-b66a-9dbae38f4363",
   "metadata": {},
   "outputs": [],
   "source": [
    "#Convertimos a JSON\n",
    "df3.to_json('./json/WorldCupMatches.json', orient='records', indent=4)\n"
   ]
  },
  {
   "cell_type": "code",
   "execution_count": 12,
   "id": "4f8462bd-0ddc-4a81-bd8f-494081d01556",
   "metadata": {},
   "outputs": [],
   "source": [
    "#Convertimos a JSON\n",
    "df4.to_json('./json/WorldCups.json', orient='records', indent=4)\n"
   ]
  },
  {
   "cell_type": "code",
   "execution_count": 13,
   "id": "c4c88390-7e83-46f2-928c-17cb6608ee3d",
   "metadata": {},
   "outputs": [],
   "source": [
    "# Convertir de JSON A CSV"
   ]
  },
  {
   "cell_type": "code",
   "execution_count": 43,
   "id": "e869a27a-84ab-41c4-b76a-832e8858d58f",
   "metadata": {},
   "outputs": [],
   "source": [
    "# CASO DE CONVERTIR DE JSON A CSV\n",
    "df = pd.read_json('JsonEloRating.json')"
   ]
  },
  {
   "cell_type": "code",
   "execution_count": 44,
   "id": "05edff5d-ed6e-4ab2-b8f7-549755cac5df",
   "metadata": {},
   "outputs": [],
   "source": [
    "# GUARDAMOS EN UN CSV\n",
    "df.to_csv('archivo.csv', index=False)"
   ]
  },
  {
   "cell_type": "code",
   "execution_count": null,
   "id": "69308623-f268-440b-9c7b-3f8f92bb23ec",
   "metadata": {},
   "outputs": [],
   "source": []
  }
 ],
 "metadata": {
  "kernelspec": {
   "display_name": "Python 3 (ipykernel)",
   "language": "python",
   "name": "python3"
  },
  "language_info": {
   "codemirror_mode": {
    "name": "ipython",
    "version": 3
   },
   "file_extension": ".py",
   "mimetype": "text/x-python",
   "name": "python",
   "nbconvert_exporter": "python",
   "pygments_lexer": "ipython3",
   "version": "3.13.1"
  }
 },
 "nbformat": 4,
 "nbformat_minor": 5
}
