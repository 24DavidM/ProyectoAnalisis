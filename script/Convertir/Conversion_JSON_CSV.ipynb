{
 "cells": [
  {
   "cell_type": "code",
   "execution_count": 31,
   "id": "9381b503-f966-4fef-bb65-110540f6640e",
   "metadata": {},
   "outputs": [],
   "source": [
    "# Vamos a convertir los dataframes .csv a .json"
   ]
  },
  {
   "cell_type": "code",
   "execution_count": 4,
   "id": "148bfbe9-94c0-41a9-81c9-7bfb4282045f",
   "metadata": {},
   "outputs": [],
   "source": [
    "import pandas as pd\n",
    "import json"
   ]
  },
  {
   "cell_type": "code",
   "execution_count": 21,
   "id": "c82f733f-208f-4a4f-9e83-1964c15330d0",
   "metadata": {},
   "outputs": [],
   "source": [
    "# Restaurantes:"
   ]
  },
  {
   "cell_type": "code",
   "execution_count": 22,
   "id": "009a6db9-5bdb-458f-8a2f-7504b1467aad",
   "metadata": {},
   "outputs": [],
   "source": [
    "#Cargamos el dataframe CSV\n",
    "df_restaurantes = pd.read_csv(\"C:/Users/HP/Desktop/archivos a analisar de analisis/Dataframe limpios/restaurants_Clean.csv\") "
   ]
  },
  {
   "cell_type": "code",
   "execution_count": 23,
   "id": "ca10c112-d5d0-402e-b72a-eaca12f77a0f",
   "metadata": {},
   "outputs": [],
   "source": [
    "# Lo convertimos en JSON\n",
    "df_restaurantes.to_json('C:/Users/HP/Desktop/archivos a analisar de analisis/Dataframe limpios/restaurants_Clean.json', orient='records', indent=4)"
   ]
  },
  {
   "cell_type": "code",
   "execution_count": 25,
   "id": "544b8702-c548-4b43-8fc6-58ce2db647fc",
   "metadata": {},
   "outputs": [],
   "source": [
    "# Peliculas:"
   ]
  },
  {
   "cell_type": "code",
   "execution_count": 12,
   "id": "27a4cfe9-f972-4c6b-961b-ba2d97d7aa6b",
   "metadata": {},
   "outputs": [],
   "source": [
    "#Cargamos el dataframe CSV\n",
    "df_peliculas = pd.read_csv(\"C:/Users/HP/Desktop/archivos a analisar de analisis/Dataframe limpios/Movies.csv\") "
   ]
  },
  {
   "cell_type": "code",
   "execution_count": 13,
   "id": "58c75d6f-3fca-4d9a-99f5-207084de3cd1",
   "metadata": {},
   "outputs": [],
   "source": [
    "# Lo convertimos en JSON\n",
    "df_peliculas.to_json('C:/Users/HP/Desktop/archivos a analisar de analisis/Dataframe limpios/Movies.json', orient='records', indent=4)"
   ]
  },
  {
   "cell_type": "code",
   "execution_count": 1,
   "id": "80a2f7a6-7948-4bf3-bd6c-34444e8aa460",
   "metadata": {},
   "outputs": [],
   "source": [
    "# Personas:"
   ]
  },
  {
   "cell_type": "code",
   "execution_count": 5,
   "id": "2d478c65-8d88-496a-8c28-0eefc93ac699",
   "metadata": {},
   "outputs": [],
   "source": [
    "#Cargamos el dataframe CSV\n",
    "df_peliculas = pd.read_csv(\"C:/Users/HP/Desktop/archivos a analisar de analisis/Dataframe limpios/People.csv\") "
   ]
  },
  {
   "cell_type": "code",
   "execution_count": 6,
   "id": "dbe5edd5-05f8-4c30-accc-f1209d6f427c",
   "metadata": {},
   "outputs": [],
   "source": [
    "# Lo convertimos en JSON\n",
    "df_peliculas.to_json('C:/Users/HP/Desktop/archivos a analisar de analisis/Dataframe limpios/People.json', orient='records', indent=4)"
   ]
  },
  {
   "cell_type": "code",
   "execution_count": 7,
   "id": "8a62b881-64e5-4c46-a202-54248875b61a",
   "metadata": {},
   "outputs": [],
   "source": [
    "# Producción:"
   ]
  },
  {
   "cell_type": "code",
   "execution_count": 8,
   "id": "f6d4c53e-2efb-4d83-b495-6f2755d899f3",
   "metadata": {},
   "outputs": [],
   "source": [
    "#Cargamos el dataframe CSV\n",
    "df_peliculas = pd.read_csv(\"C:/Users/HP/Desktop/archivos a analisar de analisis/Dataframe limpios/Production.csv\") "
   ]
  },
  {
   "cell_type": "code",
   "execution_count": 9,
   "id": "d3e15cbf-c48f-4ce9-979d-9045839f1fe8",
   "metadata": {},
   "outputs": [],
   "source": [
    "# Lo convertimos en JSON\n",
    "df_peliculas.to_json('C:/Users/HP/Desktop/archivos a analisar de analisis/Dataframe limpios/Production.json', orient='records', indent=4)"
   ]
  },
  {
   "cell_type": "code",
   "execution_count": 32,
   "id": "b218b329-d98b-4909-8b5d-1160b9245fcd",
   "metadata": {},
   "outputs": [],
   "source": [
    "# Vamos a convertir los dataframes .json a .csv"
   ]
  },
  {
   "cell_type": "code",
   "execution_count": 37,
   "id": "8d411ac2-05f9-4d48-93de-15cb84d6a886",
   "metadata": {},
   "outputs": [],
   "source": [
    "# Restaurantes:"
   ]
  },
  {
   "cell_type": "code",
   "execution_count": 36,
   "id": "ab8a5850-e6b7-4033-a35f-06deed8a609a",
   "metadata": {},
   "outputs": [],
   "source": [
    "#Cargamos el dataframe JSON\n",
    "df_restaurantes = pd.read_json(\"C:/Users/HP/Desktop/archivos a analisar de analisis/JSON/restaurants_Clean.json\") "
   ]
  },
  {
   "cell_type": "code",
   "execution_count": null,
   "id": "10b96043-3bc5-43bb-8f6d-2a10e772ae63",
   "metadata": {},
   "outputs": [],
   "source": [
    "# Lo convertimos en CSV\n",
    "df_restaurantes.to_csv('C:/Users/HP/Desktop/archivos a analisar de analisis/Dataframe limpios/restaurants_Clean.csv', index=False)"
   ]
  },
  {
   "cell_type": "code",
   "execution_count": 39,
   "id": "3a3088e7-15d6-4f72-8d26-2a420850fae3",
   "metadata": {},
   "outputs": [],
   "source": [
    "# Peliculas:"
   ]
  },
  {
   "cell_type": "code",
   "execution_count": 14,
   "id": "793846bf-052f-4201-97f3-5cdb1a884a8f",
   "metadata": {},
   "outputs": [],
   "source": [
    "#Cargamos el dataframe JSON\n",
    "df_peliculas = pd.read_json(\"C:/Users/HP/Desktop/archivos a analisar de analisis/Dataframe limpios/Movies.json\") "
   ]
  },
  {
   "cell_type": "code",
   "execution_count": 15,
   "id": "27bcdc1e-b5ff-480e-9bfb-3e1bab859ba3",
   "metadata": {},
   "outputs": [],
   "source": [
    "# Lo convertimos en CSV\n",
    "df_peliculas.to_csv('C:/Users/HP/Desktop/archivos a analisar de analisis/Dataframe limpios/Movies_Conversion.csv', index=False)"
   ]
  },
  {
   "cell_type": "code",
   "execution_count": 16,
   "id": "263a8da8-6b72-4bb7-9077-92f580e43c4e",
   "metadata": {},
   "outputs": [],
   "source": [
    "# Personas:"
   ]
  },
  {
   "cell_type": "code",
   "execution_count": 17,
   "id": "94a4c126-350f-44d5-b5a6-8dc9e9bf44ca",
   "metadata": {},
   "outputs": [],
   "source": [
    "#Cargamos el dataframe JSON\n",
    "df_peliculas = pd.read_json(\"C:/Users/HP/Desktop/archivos a analisar de analisis/Dataframe limpios/People.json\") "
   ]
  },
  {
   "cell_type": "code",
   "execution_count": 18,
   "id": "75778291-d68f-436e-9d55-1df9a67182fb",
   "metadata": {},
   "outputs": [],
   "source": [
    "# Lo convertimos en CSV\n",
    "df_peliculas.to_csv('C:/Users/HP/Desktop/archivos a analisar de analisis/Dataframe limpios/People_conversion.csv', index=False)"
   ]
  },
  {
   "cell_type": "code",
   "execution_count": 19,
   "id": "3b5be78b-e5bd-4072-b3a9-8e0ceab3c111",
   "metadata": {},
   "outputs": [],
   "source": [
    "# Producción:"
   ]
  },
  {
   "cell_type": "code",
   "execution_count": 20,
   "id": "9a5626e1-82df-47a4-a094-c3329c811759",
   "metadata": {},
   "outputs": [],
   "source": [
    "#Cargamos el dataframe JSON\n",
    "df_peliculas = pd.read_json(\"C:/Users/HP/Desktop/archivos a analisar de analisis/Dataframe limpios/Production.json\") "
   ]
  },
  {
   "cell_type": "code",
   "execution_count": 21,
   "id": "0a9fd0bb-df6d-4a35-9f1f-cf956dfb3781",
   "metadata": {},
   "outputs": [],
   "source": [
    "# Lo convertimos en CSV\n",
    "df_peliculas.to_csv('C:/Users/HP/Desktop/archivos a analisar de analisis/Dataframe limpios/Production_conversion.csv', index=False)"
   ]
  },
  {
   "cell_type": "code",
   "execution_count": null,
   "id": "1fc27e37-144d-4606-a4cc-ed916698e90e",
   "metadata": {},
   "outputs": [],
   "source": []
  }
 ],
 "metadata": {
  "kernelspec": {
   "display_name": "Python 3 (ipykernel)",
   "language": "python",
   "name": "python3"
  },
  "language_info": {
   "codemirror_mode": {
    "name": "ipython",
    "version": 3
   },
   "file_extension": ".py",
   "mimetype": "text/x-python",
   "name": "python",
   "nbconvert_exporter": "python",
   "pygments_lexer": "ipython3",
   "version": "3.13.0"
  }
 },
 "nbformat": 4,
 "nbformat_minor": 5
}
