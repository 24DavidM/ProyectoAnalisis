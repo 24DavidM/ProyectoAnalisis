{
 "cells": [
  {
   "cell_type": "code",
   "execution_count": 37,
   "id": "6985483c-dfb2-410e-8de0-9756578eef35",
   "metadata": {},
   "outputs": [
    {
     "name": "stdout",
     "output_type": "stream",
     "text": [
      "Registros actuales: 10000\n"
     ]
    },
    {
     "data": {
      "text/html": [
       "<div>\n",
       "<style scoped>\n",
       "    .dataframe tbody tr th:only-of-type {\n",
       "        vertical-align: middle;\n",
       "    }\n",
       "\n",
       "    .dataframe tbody tr th {\n",
       "        vertical-align: top;\n",
       "    }\n",
       "\n",
       "    .dataframe thead th {\n",
       "        text-align: right;\n",
       "    }\n",
       "</style>\n",
       "<table border=\"1\" class=\"dataframe\">\n",
       "  <thead>\n",
       "    <tr style=\"text-align: right;\">\n",
       "      <th></th>\n",
       "      <th>category</th>\n",
       "      <th>reviewer_name</th>\n",
       "      <th>reviewer_age</th>\n",
       "      <th>review_date</th>\n",
       "      <th>review_id</th>\n",
       "      <th>review_text</th>\n",
       "      <th>restaurant_location</th>\n",
       "      <th>rating</th>\n",
       "      <th>restaurant_city</th>\n",
       "    </tr>\n",
       "  </thead>\n",
       "  <tbody>\n",
       "    <tr>\n",
       "      <th>0</th>\n",
       "      <td>Breakfast</td>\n",
       "      <td>Orlando Sanford</td>\n",
       "      <td>65</td>\n",
       "      <td>2024-04-16T06:22:58.246Z</td>\n",
       "      <td>decbc6be-339c-4425-85aa-d00f5e6e6f3f</td>\n",
       "      <td>JGYylwLXKQ</td>\n",
       "      <td>221 Kilback Extension</td>\n",
       "      <td>5</td>\n",
       "      <td>Fort Bernie</td>\n",
       "    </tr>\n",
       "    <tr>\n",
       "      <th>1</th>\n",
       "      <td>Lunch</td>\n",
       "      <td>Elijah Schuster</td>\n",
       "      <td>44</td>\n",
       "      <td>2024-04-18T22:28:39.518Z</td>\n",
       "      <td>c73a1fdc-dcc0-4781-b3d2-2002722eda67</td>\n",
       "      <td>aAcFSNyaOO</td>\n",
       "      <td>93487 High Road</td>\n",
       "      <td>4</td>\n",
       "      <td>Burien</td>\n",
       "    </tr>\n",
       "    <tr>\n",
       "      <th>2</th>\n",
       "      <td>Dinner</td>\n",
       "      <td>Delia Wunsch</td>\n",
       "      <td>59</td>\n",
       "      <td>2024-09-12T08:43:37.669Z</td>\n",
       "      <td>91c81bcd-8c27-46a9-bf9e-b0af3f07611a</td>\n",
       "      <td>IQAPnwDeXp</td>\n",
       "      <td>6785 Estella Path</td>\n",
       "      <td>1</td>\n",
       "      <td>Kylebury</td>\n",
       "    </tr>\n",
       "    <tr>\n",
       "      <th>3</th>\n",
       "      <td>Snacks</td>\n",
       "      <td>Marta Rowe</td>\n",
       "      <td>57</td>\n",
       "      <td>2025-01-22T05:37:20.088Z</td>\n",
       "      <td>cd49dfbb-7e45-49b2-99b5-cb178f3c1714</td>\n",
       "      <td>Zi6xhJvRvs</td>\n",
       "      <td>720 The Limes</td>\n",
       "      <td>3</td>\n",
       "      <td>Novato</td>\n",
       "    </tr>\n",
       "    <tr>\n",
       "      <th>4</th>\n",
       "      <td>Drinks</td>\n",
       "      <td>Dave Johns</td>\n",
       "      <td>31</td>\n",
       "      <td>2024-05-31T09:14:26.716Z</td>\n",
       "      <td>e4f14af7-acab-472a-839e-510ddfa0e1e7</td>\n",
       "      <td>Zg9hkf5bCd</td>\n",
       "      <td>11393 Beier Fords</td>\n",
       "      <td>5</td>\n",
       "      <td>Heaneystad</td>\n",
       "    </tr>\n",
       "  </tbody>\n",
       "</table>\n",
       "</div>"
      ],
      "text/plain": [
       "    category    reviewer_name  reviewer_age               review_date  \\\n",
       "0  Breakfast  Orlando Sanford            65  2024-04-16T06:22:58.246Z   \n",
       "1      Lunch  Elijah Schuster            44  2024-04-18T22:28:39.518Z   \n",
       "2     Dinner     Delia Wunsch            59  2024-09-12T08:43:37.669Z   \n",
       "3     Snacks       Marta Rowe            57  2025-01-22T05:37:20.088Z   \n",
       "4     Drinks       Dave Johns            31  2024-05-31T09:14:26.716Z   \n",
       "\n",
       "                              review_id review_text    restaurant_location  \\\n",
       "0  decbc6be-339c-4425-85aa-d00f5e6e6f3f  JGYylwLXKQ  221 Kilback Extension   \n",
       "1  c73a1fdc-dcc0-4781-b3d2-2002722eda67  aAcFSNyaOO        93487 High Road   \n",
       "2  91c81bcd-8c27-46a9-bf9e-b0af3f07611a  IQAPnwDeXp      6785 Estella Path   \n",
       "3  cd49dfbb-7e45-49b2-99b5-cb178f3c1714  Zi6xhJvRvs          720 The Limes   \n",
       "4  e4f14af7-acab-472a-839e-510ddfa0e1e7  Zg9hkf5bCd      11393 Beier Fords   \n",
       "\n",
       "   rating restaurant_city  \n",
       "0       5     Fort Bernie  \n",
       "1       4          Burien  \n",
       "2       1        Kylebury  \n",
       "3       3          Novato  \n",
       "4       5      Heaneystad  "
      ]
     },
     "execution_count": 37,
     "metadata": {},
     "output_type": "execute_result"
    }
   ],
   "source": [
    "# Restaurantes:\n",
    "# primero vamos a crear datos locales y lo vamos a adjuntar con el dataset original:\n",
    "\n",
    "import pandas as pd\n",
    "\n",
    "# Cargamos primero el CSV\n",
    "ruta_csv = \"C:/Users/HP/Desktop/archivos a analisar de analisis/RestaurantDatos.csv\"\n",
    "df = pd.read_csv(ruta_csv)\n",
    "\n",
    "# cantidad de datos\n",
    "print(f\"Registros actuales: {len(df)}\")\n",
    "df.head()\n"
   ]
  },
  {
   "cell_type": "code",
   "execution_count": 27,
   "id": "5ac7df46-557e-42e4-9379-258eb82c4a50",
   "metadata": {},
   "outputs": [
    {
     "name": "stdout",
     "output_type": "stream",
     "text": [
      "Nueva cantidad de registros: 25000\n"
     ]
    },
    {
     "data": {
      "text/html": [
       "<div>\n",
       "<style scoped>\n",
       "    .dataframe tbody tr th:only-of-type {\n",
       "        vertical-align: middle;\n",
       "    }\n",
       "\n",
       "    .dataframe tbody tr th {\n",
       "        vertical-align: top;\n",
       "    }\n",
       "\n",
       "    .dataframe thead th {\n",
       "        text-align: right;\n",
       "    }\n",
       "</style>\n",
       "<table border=\"1\" class=\"dataframe\">\n",
       "  <thead>\n",
       "    <tr style=\"text-align: right;\">\n",
       "      <th></th>\n",
       "      <th>category</th>\n",
       "      <th>reviewer_name</th>\n",
       "      <th>reviewer_age</th>\n",
       "      <th>review_date</th>\n",
       "      <th>review_id</th>\n",
       "      <th>review_text</th>\n",
       "      <th>restaurant_location</th>\n",
       "      <th>rating</th>\n",
       "      <th>restaurant_city</th>\n",
       "    </tr>\n",
       "  </thead>\n",
       "  <tbody>\n",
       "    <tr>\n",
       "      <th>0</th>\n",
       "      <td>Breakfast</td>\n",
       "      <td>Orlando Sanford</td>\n",
       "      <td>65</td>\n",
       "      <td>2024-04-16T06:22:58.246Z</td>\n",
       "      <td>decbc6be-339c-4425-85aa-d00f5e6e6f3f</td>\n",
       "      <td>JGYylwLXKQ</td>\n",
       "      <td>221 Kilback Extension</td>\n",
       "      <td>5.0</td>\n",
       "      <td>Fort Bernie</td>\n",
       "    </tr>\n",
       "    <tr>\n",
       "      <th>1</th>\n",
       "      <td>Lunch</td>\n",
       "      <td>Elijah Schuster</td>\n",
       "      <td>44</td>\n",
       "      <td>2024-04-18T22:28:39.518Z</td>\n",
       "      <td>c73a1fdc-dcc0-4781-b3d2-2002722eda67</td>\n",
       "      <td>aAcFSNyaOO</td>\n",
       "      <td>93487 High Road</td>\n",
       "      <td>4.0</td>\n",
       "      <td>Burien</td>\n",
       "    </tr>\n",
       "    <tr>\n",
       "      <th>2</th>\n",
       "      <td>Dinner</td>\n",
       "      <td>Delia Wunsch</td>\n",
       "      <td>59</td>\n",
       "      <td>2024-09-12T08:43:37.669Z</td>\n",
       "      <td>91c81bcd-8c27-46a9-bf9e-b0af3f07611a</td>\n",
       "      <td>IQAPnwDeXp</td>\n",
       "      <td>6785 Estella Path</td>\n",
       "      <td>1.0</td>\n",
       "      <td>Kylebury</td>\n",
       "    </tr>\n",
       "    <tr>\n",
       "      <th>3</th>\n",
       "      <td>Snacks</td>\n",
       "      <td>Marta Rowe</td>\n",
       "      <td>57</td>\n",
       "      <td>2025-01-22T05:37:20.088Z</td>\n",
       "      <td>cd49dfbb-7e45-49b2-99b5-cb178f3c1714</td>\n",
       "      <td>Zi6xhJvRvs</td>\n",
       "      <td>720 The Limes</td>\n",
       "      <td>3.0</td>\n",
       "      <td>Novato</td>\n",
       "    </tr>\n",
       "    <tr>\n",
       "      <th>4</th>\n",
       "      <td>Drinks</td>\n",
       "      <td>Dave Johns</td>\n",
       "      <td>31</td>\n",
       "      <td>2024-05-31T09:14:26.716Z</td>\n",
       "      <td>e4f14af7-acab-472a-839e-510ddfa0e1e7</td>\n",
       "      <td>Zg9hkf5bCd</td>\n",
       "      <td>11393 Beier Fords</td>\n",
       "      <td>5.0</td>\n",
       "      <td>Heaneystad</td>\n",
       "    </tr>\n",
       "  </tbody>\n",
       "</table>\n",
       "</div>"
      ],
      "text/plain": [
       "    category    reviewer_name  reviewer_age               review_date  \\\n",
       "0  Breakfast  Orlando Sanford            65  2024-04-16T06:22:58.246Z   \n",
       "1      Lunch  Elijah Schuster            44  2024-04-18T22:28:39.518Z   \n",
       "2     Dinner     Delia Wunsch            59  2024-09-12T08:43:37.669Z   \n",
       "3     Snacks       Marta Rowe            57  2025-01-22T05:37:20.088Z   \n",
       "4     Drinks       Dave Johns            31  2024-05-31T09:14:26.716Z   \n",
       "\n",
       "                              review_id review_text    restaurant_location  \\\n",
       "0  decbc6be-339c-4425-85aa-d00f5e6e6f3f  JGYylwLXKQ  221 Kilback Extension   \n",
       "1  c73a1fdc-dcc0-4781-b3d2-2002722eda67  aAcFSNyaOO        93487 High Road   \n",
       "2  91c81bcd-8c27-46a9-bf9e-b0af3f07611a  IQAPnwDeXp      6785 Estella Path   \n",
       "3  cd49dfbb-7e45-49b2-99b5-cb178f3c1714  Zi6xhJvRvs          720 The Limes   \n",
       "4  e4f14af7-acab-472a-839e-510ddfa0e1e7  Zg9hkf5bCd      11393 Beier Fords   \n",
       "\n",
       "   rating restaurant_city  \n",
       "0     5.0     Fort Bernie  \n",
       "1     4.0          Burien  \n",
       "2     1.0        Kylebury  \n",
       "3     3.0          Novato  \n",
       "4     5.0      Heaneystad  "
      ]
     },
     "execution_count": 27,
     "metadata": {},
     "output_type": "execute_result"
    }
   ],
   "source": [
    "import random\n",
    "from faker import Faker\n",
    "\n",
    "fake = Faker()\n",
    "Faker.seed(42) \n",
    "\n",
    "# datos a agregar\n",
    "nuevos_registros = 15000  \n",
    "\n",
    "# lista de nuevos datos\n",
    "datos_extra = []\n",
    "\n",
    "for _ in range(nuevos_registros):\n",
    "    datos_extra.append({\n",
    "        \"category\": random.choice(df[\"category\"].unique()),\n",
    "        \"reviewer_name\": fake.name(), \n",
    "        \"reviewer_age\": random.randint(18, 80),\n",
    "        \"review_date\": fake.date_between(start_date=\"-2y\", end_date=\"today\"), \n",
    "        \"review_id\": fake.uuid4(),\n",
    "        \"review_text\": fake.sentence(nb_words=15),\n",
    "        \"restaurant_location\": fake.address(), \n",
    "        \"rating\": round(random.uniform(1.0, 5.0), 1),\n",
    "        \"restaurant_city\": fake.city()\n",
    "    })\n",
    "\n",
    "# Convertimos a DataFrame\n",
    "df_nuevo = pd.DataFrame(datos_extra)\n",
    "\n",
    "# Combinamos con el dataset original\n",
    "df_final = pd.concat([df, df_nuevo], ignore_index=True)\n",
    "\n",
    "print(f\"Nueva cantidad de registros: {len(df_final)}\")\n",
    "df_final.head()\n"
   ]
  },
  {
   "cell_type": "code",
   "execution_count": 41,
   "id": "12266a16-ec11-4ebf-abdf-e14b2b634073",
   "metadata": {},
   "outputs": [
    {
     "name": "stdout",
     "output_type": "stream",
     "text": [
      "Archivo guardado.\n"
     ]
    }
   ],
   "source": [
    "# Guardamos el archivo\n",
    "ruta_nuevo_csv = \"C:/Users/HP/Desktop/archivos a analisar de analisis/restaurantes_nuevoo.csv\"\n",
    "df_final.to_csv(ruta_nuevo_csv, index=False, encoding=\"utf-8\")"
   ]
  },
  {
   "cell_type": "code",
   "execution_count": 58,
   "id": "20a3d14d-c841-4e66-a36c-e52f85031023",
   "metadata": {},
   "outputs": [],
   "source": [
    "# vamos a empezar a hacer una limpieza del dataframe de Restaurantes:"
   ]
  },
  {
   "cell_type": "code",
   "execution_count": 42,
   "id": "90719725-ecb8-4eb3-bb34-314f3822e1ac",
   "metadata": {},
   "outputs": [
    {
     "data": {
      "text/html": [
       "<div>\n",
       "<style scoped>\n",
       "    .dataframe tbody tr th:only-of-type {\n",
       "        vertical-align: middle;\n",
       "    }\n",
       "\n",
       "    .dataframe tbody tr th {\n",
       "        vertical-align: top;\n",
       "    }\n",
       "\n",
       "    .dataframe thead th {\n",
       "        text-align: right;\n",
       "    }\n",
       "</style>\n",
       "<table border=\"1\" class=\"dataframe\">\n",
       "  <thead>\n",
       "    <tr style=\"text-align: right;\">\n",
       "      <th></th>\n",
       "      <th>category</th>\n",
       "      <th>reviewer_name</th>\n",
       "      <th>reviewer_age</th>\n",
       "      <th>review_date</th>\n",
       "      <th>review_id</th>\n",
       "      <th>review_text</th>\n",
       "      <th>restaurant_location</th>\n",
       "      <th>rating</th>\n",
       "      <th>restaurant_city</th>\n",
       "    </tr>\n",
       "  </thead>\n",
       "  <tbody>\n",
       "    <tr>\n",
       "      <th>0</th>\n",
       "      <td>Breakfast</td>\n",
       "      <td>Orlando Sanford</td>\n",
       "      <td>65</td>\n",
       "      <td>2024-04-16T06:22:58.246Z</td>\n",
       "      <td>decbc6be-339c-4425-85aa-d00f5e6e6f3f</td>\n",
       "      <td>JGYylwLXKQ</td>\n",
       "      <td>221 Kilback Extension</td>\n",
       "      <td>5.0</td>\n",
       "      <td>Fort Bernie</td>\n",
       "    </tr>\n",
       "    <tr>\n",
       "      <th>1</th>\n",
       "      <td>Lunch</td>\n",
       "      <td>Elijah Schuster</td>\n",
       "      <td>44</td>\n",
       "      <td>2024-04-18T22:28:39.518Z</td>\n",
       "      <td>c73a1fdc-dcc0-4781-b3d2-2002722eda67</td>\n",
       "      <td>aAcFSNyaOO</td>\n",
       "      <td>93487 High Road</td>\n",
       "      <td>4.0</td>\n",
       "      <td>Burien</td>\n",
       "    </tr>\n",
       "    <tr>\n",
       "      <th>2</th>\n",
       "      <td>Dinner</td>\n",
       "      <td>Delia Wunsch</td>\n",
       "      <td>59</td>\n",
       "      <td>2024-09-12T08:43:37.669Z</td>\n",
       "      <td>91c81bcd-8c27-46a9-bf9e-b0af3f07611a</td>\n",
       "      <td>IQAPnwDeXp</td>\n",
       "      <td>6785 Estella Path</td>\n",
       "      <td>1.0</td>\n",
       "      <td>Kylebury</td>\n",
       "    </tr>\n",
       "    <tr>\n",
       "      <th>3</th>\n",
       "      <td>Snacks</td>\n",
       "      <td>Marta Rowe</td>\n",
       "      <td>57</td>\n",
       "      <td>2025-01-22T05:37:20.088Z</td>\n",
       "      <td>cd49dfbb-7e45-49b2-99b5-cb178f3c1714</td>\n",
       "      <td>Zi6xhJvRvs</td>\n",
       "      <td>720 The Limes</td>\n",
       "      <td>3.0</td>\n",
       "      <td>Novato</td>\n",
       "    </tr>\n",
       "    <tr>\n",
       "      <th>4</th>\n",
       "      <td>Drinks</td>\n",
       "      <td>Dave Johns</td>\n",
       "      <td>31</td>\n",
       "      <td>2024-05-31T09:14:26.716Z</td>\n",
       "      <td>e4f14af7-acab-472a-839e-510ddfa0e1e7</td>\n",
       "      <td>Zg9hkf5bCd</td>\n",
       "      <td>11393 Beier Fords</td>\n",
       "      <td>5.0</td>\n",
       "      <td>Heaneystad</td>\n",
       "    </tr>\n",
       "  </tbody>\n",
       "</table>\n",
       "</div>"
      ],
      "text/plain": [
       "    category    reviewer_name  reviewer_age               review_date  \\\n",
       "0  Breakfast  Orlando Sanford            65  2024-04-16T06:22:58.246Z   \n",
       "1      Lunch  Elijah Schuster            44  2024-04-18T22:28:39.518Z   \n",
       "2     Dinner     Delia Wunsch            59  2024-09-12T08:43:37.669Z   \n",
       "3     Snacks       Marta Rowe            57  2025-01-22T05:37:20.088Z   \n",
       "4     Drinks       Dave Johns            31  2024-05-31T09:14:26.716Z   \n",
       "\n",
       "                              review_id review_text    restaurant_location  \\\n",
       "0  decbc6be-339c-4425-85aa-d00f5e6e6f3f  JGYylwLXKQ  221 Kilback Extension   \n",
       "1  c73a1fdc-dcc0-4781-b3d2-2002722eda67  aAcFSNyaOO        93487 High Road   \n",
       "2  91c81bcd-8c27-46a9-bf9e-b0af3f07611a  IQAPnwDeXp      6785 Estella Path   \n",
       "3  cd49dfbb-7e45-49b2-99b5-cb178f3c1714  Zi6xhJvRvs          720 The Limes   \n",
       "4  e4f14af7-acab-472a-839e-510ddfa0e1e7  Zg9hkf5bCd      11393 Beier Fords   \n",
       "\n",
       "   rating restaurant_city  \n",
       "0     5.0     Fort Bernie  \n",
       "1     4.0          Burien  \n",
       "2     1.0        Kylebury  \n",
       "3     3.0          Novato  \n",
       "4     5.0      Heaneystad  "
      ]
     },
     "execution_count": 42,
     "metadata": {},
     "output_type": "execute_result"
    }
   ],
   "source": [
    "# Cargar el dataset desde la ruta especificada\n",
    "df = pd.read_csv('C:/Users/HP/Desktop/archivos a analisar de analisis/restaurantes_nuevoo.csv')\n",
    "df.head()"
   ]
  },
  {
   "cell_type": "code",
   "execution_count": 44,
   "id": "7993be92-b5fd-447e-9284-1e456352f3de",
   "metadata": {},
   "outputs": [],
   "source": [
    "# Aqui reemplazamos valores no numéricos por NaN\n",
    "df['rating'] = pd.to_numeric(df['rating'], errors='coerce')"
   ]
  },
  {
   "cell_type": "code",
   "execution_count": 31,
   "id": "6c00c857-73b1-44d8-8221-911d7e1a0405",
   "metadata": {},
   "outputs": [
    {
     "data": {
      "text/plain": [
       "category                object\n",
       "reviewer_name           object\n",
       "reviewer_age             int64\n",
       "review_date             object\n",
       "review_id               object\n",
       "review_text             object\n",
       "restaurant_location     object\n",
       "rating                 float64\n",
       "restaurant_city         object\n",
       "dtype: object"
      ]
     },
     "execution_count": 31,
     "metadata": {},
     "output_type": "execute_result"
    }
   ],
   "source": [
    "#Verificamos que tipo de datos es cada columna:\n",
    "df.dtypes"
   ]
  },
  {
   "cell_type": "code",
   "execution_count": 32,
   "id": "15a67bb7-4f12-43be-b469-304340106c66",
   "metadata": {},
   "outputs": [
    {
     "data": {
      "text/plain": [
       "category                   0\n",
       "reviewer_name              0\n",
       "reviewer_age               0\n",
       "review_date            15000\n",
       "review_id                  0\n",
       "review_text                0\n",
       "restaurant_location        0\n",
       "rating                     0\n",
       "restaurant_city            0\n",
       "dtype: int64"
      ]
     },
     "execution_count": 32,
     "metadata": {},
     "output_type": "execute_result"
    }
   ],
   "source": [
    "#Convertimos a tipo fecha la columna: review_date\n",
    "df['review_date'] = pd.to_datetime(df['review_date'], errors='coerce')\n",
    "df.isnull().sum()"
   ]
  },
  {
   "cell_type": "code",
   "execution_count": 38,
   "id": "ac594f1c-6e53-4b78-ab6f-bf694a0d9ab4",
   "metadata": {},
   "outputs": [],
   "source": [
    "# Ahora lo guardamos\n",
    "df.to_csv(\"restaurantes_limpio.csv\", index=False)"
   ]
  },
  {
   "cell_type": "code",
   "execution_count": 33,
   "id": "a482d194-a5d7-4335-9219-ead6f15dbcb7",
   "metadata": {},
   "outputs": [
    {
     "name": "stderr",
     "output_type": "stream",
     "text": [
      "C:\\Users\\HP\\AppData\\Local\\Temp\\ipykernel_4992\\2130055319.py:2: FutureWarning: A value is trying to be set on a copy of a DataFrame or Series through chained assignment using an inplace method.\n",
      "The behavior will change in pandas 3.0. This inplace method will never work because the intermediate object on which we are setting values always behaves as a copy.\n",
      "\n",
      "For example, when doing 'df[col].method(value, inplace=True)', try using 'df.method({col: value}, inplace=True)' or df[col] = df[col].method(value) instead, to perform the operation inplace on the original object.\n",
      "\n",
      "\n",
      "  df['review_date'].fillna('2000-01-01', inplace=True)\n"
     ]
    }
   ],
   "source": [
    "#Rellenamos los valores nulos con una fecha por defecto\n",
    "df['review_date'].fillna('2000-01-01', inplace=True)\n",
    "df['review_date'] = pd.to_datetime(df['review_date'])"
   ]
  },
  {
   "cell_type": "code",
   "execution_count": 39,
   "id": "6a9c6667-24af-4379-88a8-699e50c7070a",
   "metadata": {},
   "outputs": [],
   "source": [
    "#Eliminamos filas Duplicadas, si existen\n",
    "df.drop_duplicates(inplace=True)"
   ]
  },
  {
   "cell_type": "code",
   "execution_count": 40,
   "id": "c6ed0e7d-da67-4cfd-868a-67987d4ef155",
   "metadata": {},
   "outputs": [],
   "source": [
    "# para eliminar reseñas vacías\n",
    "df = df[df['review_text'].notnull() & (df['review_text'] != '')]"
   ]
  },
  {
   "cell_type": "code",
   "execution_count": null,
   "id": "310eec00-768e-46f4-b4d0-e9d4f5e63ea9",
   "metadata": {},
   "outputs": [],
   "source": [
    "# Peliculas:\n",
    "# Ahora vamos a crear datos locales y lo vamos a adjuntar con el dataset original\n",
    "# haciendo exactamente lo mismo que en restaurantes:"
   ]
  },
  {
   "cell_type": "code",
   "execution_count": 6,
   "id": "e5cbac7f-6da4-4450-8660-c1db005cfb94",
   "metadata": {},
   "outputs": [],
   "source": [
    "import csv\n",
    "\n",
    "# Abrimos el archivo CSV con UTF-8\n",
    "with open(r\"C:\\Users\\HP\\Desktop\\archivos a analisar de analisis\\AllMovies.csv\", mode='r', encoding='utf-8') as file:\n",
    "    reader = csv.reader(file)\n",
    "    rows = list(reader)\n",
    "\n",
    "# Vamos a trabajar con 250.000 \n",
    "rows = rows[:250000]\n",
    "\n",
    "# Guardamos el nuevo archivo CSV\n",
    "with open('C:/Users/HP/Desktop/archivos a analisar de analisis/moviesRed.csv', mode='w', newline='', encoding='utf-8') as file:\n",
    "    writer = csv.writer(file)\n",
    "    writer.writerows(rows)"
   ]
  },
  {
   "cell_type": "code",
   "execution_count": 8,
   "id": "9a98b581-e007-472b-8ede-3cfb27235270",
   "metadata": {},
   "outputs": [],
   "source": [
    "# Cargamos el nuevo dataset\n",
    "ruta_peliculas = \"C:/Users/HP/Desktop/archivos a analisar de analisis/moviesRed.csv\"\n",
    "df_peliculas = pd.read_csv(ruta_peliculas)"
   ]
  },
  {
   "cell_type": "code",
   "execution_count": 12,
   "id": "7338e815-3edb-4e72-a697-d433ceaa489d",
   "metadata": {},
   "outputs": [
    {
     "name": "stdout",
     "output_type": "stream",
     "text": [
      "<class 'pandas.core.frame.DataFrame'>\n",
      "RangeIndex: 249999 entries, 0 to 249998\n",
      "Data columns (total 28 columns):\n",
      " #   Column                   Non-Null Count   Dtype  \n",
      "---  ------                   --------------   -----  \n",
      " 0   id                       249999 non-null  int64  \n",
      " 1   title                    249999 non-null  object \n",
      " 2   vote_average             249999 non-null  float64\n",
      " 3   vote_count               249999 non-null  float64\n",
      " 4   status                   249999 non-null  object \n",
      " 5   release_date             243886 non-null  object \n",
      " 6   revenue                  249999 non-null  float64\n",
      " 7   runtime                  249999 non-null  float64\n",
      " 8   budget                   249999 non-null  float64\n",
      " 9   imdb_id                  212220 non-null  object \n",
      " 10  original_language        249999 non-null  object \n",
      " 11  original_title           249999 non-null  object \n",
      " 12  overview                 228285 non-null  object \n",
      " 13  popularity               249999 non-null  float64\n",
      " 14  tagline                  60242 non-null   object \n",
      " 15  genres                   208091 non-null  object \n",
      " 16  production_companies     152805 non-null  object \n",
      " 17  production_countries     187603 non-null  object \n",
      " 18  spoken_languages         190904 non-null  object \n",
      " 19  cast                     202341 non-null  object \n",
      " 20  director                 213761 non-null  object \n",
      " 21  director_of_photography  93783 non-null   object \n",
      " 22  writers                  157003 non-null  object \n",
      " 23  producers                109583 non-null  object \n",
      " 24  music_composer           56159 non-null   object \n",
      " 25  imdb_rating              198064 non-null  float64\n",
      " 26  imdb_votes               198064 non-null  float64\n",
      " 27  poster_path              188343 non-null  object \n",
      "dtypes: float64(8), int64(1), object(19)\n",
      "memory usage: 53.4+ MB\n"
     ]
    }
   ],
   "source": [
    "df_peliculas.info() "
   ]
  },
  {
   "cell_type": "code",
   "execution_count": 14,
   "id": "a79d0769-ab2f-4cb2-b510-dfadeab1f3fe",
   "metadata": {},
   "outputs": [],
   "source": [
    "df_peliculas = df_peliculas.dropna()"
   ]
  },
  {
   "cell_type": "code",
   "execution_count": 16,
   "id": "7c35f4ec-2f37-4ee7-808a-bfcfb228a136",
   "metadata": {},
   "outputs": [
    {
     "data": {
      "text/plain": [
       "id                         0\n",
       "title                      0\n",
       "vote_average               0\n",
       "vote_count                 0\n",
       "status                     0\n",
       "release_date               0\n",
       "revenue                    0\n",
       "runtime                    0\n",
       "budget                     0\n",
       "imdb_id                    0\n",
       "original_language          0\n",
       "original_title             0\n",
       "overview                   0\n",
       "popularity                 0\n",
       "tagline                    0\n",
       "genres                     0\n",
       "production_companies       0\n",
       "production_countries       0\n",
       "spoken_languages           0\n",
       "cast                       0\n",
       "director                   0\n",
       "director_of_photography    0\n",
       "writers                    0\n",
       "producers                  0\n",
       "music_composer             0\n",
       "imdb_rating                0\n",
       "imdb_votes                 0\n",
       "poster_path                0\n",
       "dtype: int64"
      ]
     },
     "execution_count": 16,
     "metadata": {},
     "output_type": "execute_result"
    }
   ],
   "source": [
    "# Vemos cuantos valores nulos hay\n",
    "df_peliculas.isnull().sum()"
   ]
  },
  {
   "cell_type": "code",
   "execution_count": 48,
   "id": "f8804c3a-5dcd-4747-b662-e6e2fc2d2d49",
   "metadata": {},
   "outputs": [
    {
     "name": "stderr",
     "output_type": "stream",
     "text": [
      "C:\\Users\\HP\\AppData\\Local\\Temp\\ipykernel_4992\\973101990.py:2: FutureWarning: A value is trying to be set on a copy of a DataFrame or Series through chained assignment using an inplace method.\n",
      "The behavior will change in pandas 3.0. This inplace method will never work because the intermediate object on which we are setting values always behaves as a copy.\n",
      "\n",
      "For example, when doing 'df[col].method(value, inplace=True)', try using 'df.method({col: value}, inplace=True)' or df[col] = df[col].method(value) instead, to perform the operation inplace on the original object.\n",
      "\n",
      "\n",
      "  df[\"overview\"].fillna(\"Sin descripción\", inplace=True)\n",
      "C:\\Users\\HP\\AppData\\Local\\Temp\\ipykernel_4992\\973101990.py:3: FutureWarning: A value is trying to be set on a copy of a DataFrame or Series through chained assignment using an inplace method.\n",
      "The behavior will change in pandas 3.0. This inplace method will never work because the intermediate object on which we are setting values always behaves as a copy.\n",
      "\n",
      "For example, when doing 'df[col].method(value, inplace=True)', try using 'df.method({col: value}, inplace=True)' or df[col] = df[col].method(value) instead, to perform the operation inplace on the original object.\n",
      "\n",
      "\n",
      "  df[\"tagline\"].fillna(\"Sin lema\", inplace=True)\n",
      "C:\\Users\\HP\\AppData\\Local\\Temp\\ipykernel_4992\\973101990.py:4: FutureWarning: A value is trying to be set on a copy of a DataFrame or Series through chained assignment using an inplace method.\n",
      "The behavior will change in pandas 3.0. This inplace method will never work because the intermediate object on which we are setting values always behaves as a copy.\n",
      "\n",
      "For example, when doing 'df[col].method(value, inplace=True)', try using 'df.method({col: value}, inplace=True)' or df[col] = df[col].method(value) instead, to perform the operation inplace on the original object.\n",
      "\n",
      "\n",
      "  df[\"poster_path\"].fillna(\"No disponible\", inplace=True)\n",
      "C:\\Users\\HP\\AppData\\Local\\Temp\\ipykernel_4992\\973101990.py:5: FutureWarning: A value is trying to be set on a copy of a DataFrame or Series through chained assignment using an inplace method.\n",
      "The behavior will change in pandas 3.0. This inplace method will never work because the intermediate object on which we are setting values always behaves as a copy.\n",
      "\n",
      "For example, when doing 'df[col].method(value, inplace=True)', try using 'df.method({col: value}, inplace=True)' or df[col] = df[col].method(value) instead, to perform the operation inplace on the original object.\n",
      "\n",
      "\n",
      "  df[\"backdrop_path\"].fillna(\"No disponible\", inplace=True)\n",
      "C:\\Users\\HP\\AppData\\Local\\Temp\\ipykernel_4992\\973101990.py:6: FutureWarning: A value is trying to be set on a copy of a DataFrame or Series through chained assignment using an inplace method.\n",
      "The behavior will change in pandas 3.0. This inplace method will never work because the intermediate object on which we are setting values always behaves as a copy.\n",
      "\n",
      "For example, when doing 'df[col].method(value, inplace=True)', try using 'df.method({col: value}, inplace=True)' or df[col] = df[col].method(value) instead, to perform the operation inplace on the original object.\n",
      "\n",
      "\n",
      "  df[\"collection\"].fillna(\"Sin colección\", inplace=True)\n",
      "C:\\Users\\HP\\AppData\\Local\\Temp\\ipykernel_4992\\973101990.py:6: FutureWarning: Setting an item of incompatible dtype is deprecated and will raise an error in a future version of pandas. Value 'Sin colección' has dtype incompatible with float64, please explicitly cast to a compatible dtype first.\n",
      "  df[\"collection\"].fillna(\"Sin colección\", inplace=True)\n",
      "C:\\Users\\HP\\AppData\\Local\\Temp\\ipykernel_4992\\973101990.py:7: FutureWarning: A value is trying to be set on a copy of a DataFrame or Series through chained assignment using an inplace method.\n",
      "The behavior will change in pandas 3.0. This inplace method will never work because the intermediate object on which we are setting values always behaves as a copy.\n",
      "\n",
      "For example, when doing 'df[col].method(value, inplace=True)', try using 'df.method({col: value}, inplace=True)' or df[col] = df[col].method(value) instead, to perform the operation inplace on the original object.\n",
      "\n",
      "\n",
      "  df[\"collection_name\"].fillna(\"Sin colección\", inplace=True)\n"
     ]
    }
   ],
   "source": [
    "#Vamos a rellenar los datos que tengan nulos\n",
    "df[\"overview\"].fillna(\"Sin descripción\", inplace=True)\n",
    "df[\"tagline\"].fillna(\"Sin lema\", inplace=True)\n",
    "df[\"poster_path\"].fillna(\"No disponible\", inplace=True)\n",
    "df[\"backdrop_path\"].fillna(\"No disponible\", inplace=True)\n",
    "df[\"collection\"].fillna(\"Sin colección\", inplace=True)\n",
    "df[\"collection_name\"].fillna(\"Sin colección\", inplace=True)"
   ]
  },
  {
   "cell_type": "code",
   "execution_count": 51,
   "id": "9842e5ce-b8be-4508-87f3-e2059c05ce63",
   "metadata": {},
   "outputs": [],
   "source": [
    "df[\"release_date\"] = pd.to_datetime(df[\"release_date\"], errors=\"coerce\")  # release_date a datetime\n",
    "df[\"budget\"] = pd.to_numeric(df[\"budget\"], errors=\"coerce\")  # budget sea numérico\n",
    "df[\"revenue\"] = pd.to_numeric(df[\"revenue\"], errors=\"coerce\")  # revenue sea numérico"
   ]
  },
  {
   "cell_type": "code",
   "execution_count": 52,
   "id": "e440b3ba-54c5-4203-9933-7c43ac66d9f2",
   "metadata": {},
   "outputs": [],
   "source": [
    "# Eliminar duplicados en el id\n",
    "df = df.drop_duplicates(subset=[\"id\"], keep=\"first\")"
   ]
  },
  {
   "cell_type": "code",
   "execution_count": 53,
   "id": "505b5f03-dd51-43f1-9a4d-3eae8f0abde5",
   "metadata": {},
   "outputs": [],
   "source": [
    "# que budget y revenue no sean negativos\n",
    "df = df[(df[\"budget\"] >= 0) & (df[\"revenue\"] >= 0)] "
   ]
  },
  {
   "cell_type": "code",
   "execution_count": 57,
   "id": "2ff9ce07-6ede-4923-8a98-36278b475638",
   "metadata": {},
   "outputs": [],
   "source": [
    "# Finalmente guardamos nuestro nuevo DataFrame:\n",
    "ruta_nuevo_csv = \"C:/Users/HP/Desktop/archivos a analisar de analisis/horror_movies_Clean.csv\"\n",
    "df_final.to_csv(ruta_nuevo_csv, index=False, encoding=\"utf-8\")"
   ]
  }
 ],
 "metadata": {
  "kernelspec": {
   "display_name": "Python 3 (ipykernel)",
   "language": "python",
   "name": "python3"
  },
  "language_info": {
   "codemirror_mode": {
    "name": "ipython",
    "version": 3
   },
   "file_extension": ".py",
   "mimetype": "text/x-python",
   "name": "python",
   "nbconvert_exporter": "python",
   "pygments_lexer": "ipython3",
   "version": "3.13.1"
  }
 },
 "nbformat": 4,
 "nbformat_minor": 5
}
